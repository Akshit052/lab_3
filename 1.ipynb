{
 "cells": [
  {
   "cell_type": "code",
   "execution_count": 227,
   "metadata": {},
   "outputs": [],
   "source": [
    "import random\n",
    "import numpy as np\n",
    "import pandas as pd\n",
    "import matplotlib.pyplot as plt\n",
    "from sklearn.model_selection import train_test_split\n",
    "from sklearn.linear_model import LinearRegression\n",
    "from sklearn.preprocessing import PolynomialFeatures\n",
    "from sklearn.metrics import r2_score"
   ]
  },
  {
   "cell_type": "code",
   "execution_count": 228,
   "metadata": {},
   "outputs": [
    {
     "name": "stdout",
     "output_type": "stream",
     "text": [
      "7.571978084849093\n"
     ]
    }
   ],
   "source": [
    "## We assume the values of a and b\n",
    "a= 10*np.random.rand()\n",
    "b= 10*np.random.rand()\n",
    "print(a)\n",
    "def normal_dist(x , mean , sd):\n",
    "    prob_density = (np.pi*sd) * np.exp(-0.5*((x-mean)/sd)**2)\n",
    "    return prob_density"
   ]
  },
  {
   "cell_type": "code",
   "execution_count": 229,
   "metadata": {},
   "outputs": [
    {
     "data": {
      "image/png": "[encoded data removed]",
      "text/plain": [
       "<Figure size 432x288 with 1 Axes>"
      ]
     },
     "metadata": {
      "needs_background": "light"
     },
     "output_type": "display_data"
    }
   ],
   "source": [
    "## Creating Dataset\n",
    "x = np.random.uniform(0,10,75)\n",
    "y =  a*x + b + normal_dist(x,0,1)\n",
    "plt.plot(x,y,'o')\n",
    "plt.xlabel(\"X\")\n",
    "plt.ylabel(\"Y\")\n",
    "plt.show()\n"
   ]
  },
  {
   "cell_type": "code",
   "execution_count": 230,
   "metadata": {},
   "outputs": [],
   "source": [
    "def h(x,theta):\n",
    "\t# write for general case\n",
    "\treturn theta[0]*x + theta[1]\n",
    "\n",
    "    "
   ]
  },
  {
   "cell_type": "code",
   "execution_count": 231,
   "metadata": {},
   "outputs": [],
   "source": [
    "def cost_function(x, y, theta):\n",
    "\tm = len(x)\n",
    "\tJ = (1/(2*m))*np.sum((h(x,theta)-y)**2)\n",
    "\treturn J"
   ]
  },
  {
   "cell_type": "code",
   "execution_count": 232,
   "metadata": {},
   "outputs": [],
   "source": [
    "def gradient_descent(x, y, learning_rate, num_epochs):\n",
    "\td = len(x[0])\n",
    "\tprint(\"d is\",d)\n",
    "\ttheta = np.zeros(d)\n",
    "\tm = len(x)\n",
    "\tcost_history = np.zeros(num_epochs)\n",
    "\tfor epoch in range(num_epochs):\n",
    "\t\thypothesis = h(x, theta)\n",
    "\t\ttheta = theta - (learning_rate/m)*np.sum((hypothesis-y)*x, axis=0)\n",
    "\t\tcost_history[epoch] = cost_function(x, y, theta)\n",
    "\treturn theta, cost_history\n",
    "\t"
   ]
  },
  {
   "cell_type": "code",
   "execution_count": 233,
   "metadata": {},
   "outputs": [],
   "source": [
    "## For 2 degree Y = \n",
    "train_x, test_x, train_y, test_y = train_test_split(x, y, test_size=0.2)\n",
    "degree =2 "
   ]
  },
  {
   "cell_type": "code",
   "execution_count": 234,
   "metadata": {},
   "outputs": [],
   "source": [
    "# for i in range(degree):\n",
    "#     X_data[i] = X_data[0].apply(lambda x1: x1**(i+1))"
   ]
  },
  {
   "cell_type": "code",
   "execution_count": 235,
   "metadata": {},
   "outputs": [],
   "source": [
    "# X_data[degree] = 1 \n",
    "# X_data\n",
    "# # train_x, test_x, train_y, test_y = train_test_split(X_data, Y_data, test_size=0.2)"
   ]
  },
  {
   "cell_type": "code",
   "execution_count": 236,
   "metadata": {},
   "outputs": [],
   "source": [
    "## Initialising th"
   ]
  },
  {
   "cell_type": "code",
   "execution_count": 237,
   "metadata": {},
   "outputs": [
    {
     "ename": "TypeError",
     "evalue": "object of type 'numpy.float64' has no len()",
     "output_type": "error",
     "traceback": [
      "\u001b[1;31m---------------------------------------------------------------------------\u001b[0m",
      "\u001b[1;31mTypeError\u001b[0m                                 Traceback (most recent call last)",
      "\u001b[1;32m<ipython-input-237-7ccd9efdef5d>\u001b[0m in \u001b[0;36m<module>\u001b[1;34m\u001b[0m\n\u001b[1;32m----> 1\u001b[1;33m \u001b[0mtheta_new\u001b[0m\u001b[1;33m,\u001b[0m \u001b[0mJ_all\u001b[0m \u001b[1;33m=\u001b[0m \u001b[0mgradient_descent\u001b[0m\u001b[1;33m(\u001b[0m\u001b[0mtrain_x\u001b[0m\u001b[1;33m,\u001b[0m \u001b[0mtrain_y\u001b[0m\u001b[1;33m,\u001b[0m \u001b[0mlearning_rate\u001b[0m\u001b[1;33m=\u001b[0m\u001b[1;36m0.0001\u001b[0m\u001b[1;33m,\u001b[0m \u001b[0mnum_epochs\u001b[0m\u001b[1;33m=\u001b[0m\u001b[1;36m100\u001b[0m\u001b[1;33m)\u001b[0m\u001b[1;33m\u001b[0m\u001b[1;33m\u001b[0m\u001b[0m\n\u001b[0m",
      "\u001b[1;32m<ipython-input-232-b1ebeaf664a4>\u001b[0m in \u001b[0;36mgradient_descent\u001b[1;34m(x, y, learning_rate, num_epochs)\u001b[0m\n\u001b[0;32m      1\u001b[0m \u001b[1;32mdef\u001b[0m \u001b[0mgradient_descent\u001b[0m\u001b[1;33m(\u001b[0m\u001b[0mx\u001b[0m\u001b[1;33m,\u001b[0m \u001b[0my\u001b[0m\u001b[1;33m,\u001b[0m \u001b[0mlearning_rate\u001b[0m\u001b[1;33m,\u001b[0m \u001b[0mnum_epochs\u001b[0m\u001b[1;33m)\u001b[0m\u001b[1;33m:\u001b[0m\u001b[1;33m\u001b[0m\u001b[1;33m\u001b[0m\u001b[0m\n\u001b[1;32m----> 2\u001b[1;33m         \u001b[0md\u001b[0m \u001b[1;33m=\u001b[0m \u001b[0mlen\u001b[0m\u001b[1;33m(\u001b[0m\u001b[0mx\u001b[0m\u001b[1;33m[\u001b[0m\u001b[1;36m0\u001b[0m\u001b[1;33m]\u001b[0m\u001b[1;33m)\u001b[0m\u001b[1;33m\u001b[0m\u001b[1;33m\u001b[0m\u001b[0m\n\u001b[0m\u001b[0;32m      3\u001b[0m         \u001b[0mprint\u001b[0m\u001b[1;33m(\u001b[0m\u001b[1;34m\"d is\"\u001b[0m\u001b[1;33m,\u001b[0m\u001b[0md\u001b[0m\u001b[1;33m)\u001b[0m\u001b[1;33m\u001b[0m\u001b[1;33m\u001b[0m\u001b[0m\n\u001b[0;32m      4\u001b[0m         \u001b[0mtheta\u001b[0m \u001b[1;33m=\u001b[0m \u001b[0mnp\u001b[0m\u001b[1;33m.\u001b[0m\u001b[0mzeros\u001b[0m\u001b[1;33m(\u001b[0m\u001b[0md\u001b[0m\u001b[1;33m)\u001b[0m\u001b[1;33m\u001b[0m\u001b[1;33m\u001b[0m\u001b[0m\n\u001b[0;32m      5\u001b[0m         \u001b[0mm\u001b[0m \u001b[1;33m=\u001b[0m \u001b[0mlen\u001b[0m\u001b[1;33m(\u001b[0m\u001b[0mx\u001b[0m\u001b[1;33m)\u001b[0m\u001b[1;33m\u001b[0m\u001b[1;33m\u001b[0m\u001b[0m\n",
      "\u001b[1;31mTypeError\u001b[0m: object of type 'numpy.float64' has no len()"
     ]
    }
   ],
   "source": [
    "theta_new, J_all = gradient_descent(train_x, train_y, learning_rate=0.0001, num_epochs=100)"
   ]
  },
  {
   "cell_type": "code",
   "execution_count": null,
   "metadata": {},
   "outputs": [
    {
     "data": {
      "text/plain": [
       "0    12.377027\n",
       "dtype: float64"
      ]
     },
     "execution_count": 159,
     "metadata": {},
     "output_type": "execute_result"
    }
   ],
   "source": [
    "total_loss = cost_function(test_x,test_y,theta_new)\n",
    "total_loss"
   ]
  },
  {
   "cell_type": "code",
   "execution_count": null,
   "metadata": {},
   "outputs": [
    {
     "name": "stderr",
     "output_type": "stream",
     "text": [
      "C:\\Program Files\\Python38\\lib\\site-packages\\numpy\\core\\_methods.py:47: RuntimeWarning: overflow encountered in reduce\n",
      "  return umr_sum(a, axis, dtype, out, keepdims, initial, where)\n"
     ]
    },
    {
     "data": {
      "text/plain": [
       "0    0.0\n",
       "dtype: float64"
      ]
     },
     "execution_count": 160,
     "metadata": {},
     "output_type": "execute_result"
    }
   ],
   "source": [
    "## For  degree = 5\n",
    "X_data = pd.DataFrame(x)\n",
    "Y_data = pd.DataFrame(y)\n",
    "train_x, test_x, train_y, test_y = train_test_split(X_data, Y_data, test_size=0.2)\n",
    "degree =5\n",
    "for i in range(degree):\n",
    "    X_data[i] = X_data[0].apply(lambda x1: x1**(i+1))\n",
    "X_data[degree] = 1 \n",
    "X_data\n",
    "train_x, test_x, train_y, test_y = train_test_split(X_data, Y_data, test_size=0.2)\n",
    "theta = 10*abs((np.random.randn(degree+1)))\n",
    "theta = pd.DataFrame(theta)\n",
    "theta_new, J_all = gradient_descent(train_x, train_y, theta, learning_rate=0.1**2, num_epochs=1000)\n",
    "\n",
    "total_loss = cost_function(test_x,test_y,theta_new)\n",
    "total_loss"
   ]
  },
  {
   "cell_type": "code",
   "execution_count": null,
   "metadata": {},
   "outputs": [
    {
     "data": {
      "text/html": [
       "<div>\n",
       "<style scoped>\n",
       "    .dataframe tbody tr th:only-of-type {\n",
       "        vertical-align: middle;\n",
       "    }\n",
       "\n",
       "    .dataframe tbody tr th {\n",
       "        vertical-align: top;\n",
       "    }\n",
       "\n",
       "    .dataframe thead th {\n",
       "        text-align: right;\n",
       "    }\n",
       "</style>\n",
       "<table border=\"1\" class=\"dataframe\">\n",
       "  <thead>\n",
       "    <tr style=\"text-align: right;\">\n",
       "      <th></th>\n",
       "      <th>0</th>\n",
       "    </tr>\n",
       "  </thead>\n",
       "  <tbody>\n",
       "    <tr>\n",
       "      <th>0</th>\n",
       "      <td>4.417496</td>\n",
       "    </tr>\n",
       "    <tr>\n",
       "      <th>1</th>\n",
       "      <td>1.354928</td>\n",
       "    </tr>\n",
       "    <tr>\n",
       "      <th>2</th>\n",
       "      <td>12.280815</td>\n",
       "    </tr>\n",
       "    <tr>\n",
       "      <th>3</th>\n",
       "      <td>0.470150</td>\n",
       "    </tr>\n",
       "    <tr>\n",
       "      <th>4</th>\n",
       "      <td>10.134578</td>\n",
       "    </tr>\n",
       "    <tr>\n",
       "      <th>5</th>\n",
       "      <td>18.637607</td>\n",
       "    </tr>\n",
       "  </tbody>\n",
       "</table>\n",
       "</div>"
      ],
      "text/plain": [
       "           0\n",
       "0   4.417496\n",
       "1   1.354928\n",
       "2  12.280815\n",
       "3   0.470150\n",
       "4  10.134578\n",
       "5  18.637607"
      ]
     },
     "execution_count": 161,
     "metadata": {},
     "output_type": "execute_result"
    }
   ],
   "source": [
    "theta"
   ]
  },
  {
   "cell_type": "code",
   "execution_count": null,
   "metadata": {},
   "outputs": [
    {
     "data": {
      "image/png": "[encoded data removed]",
      "text/plain": [
       "<Figure size 432x288 with 1 Axes>"
      ]
     },
     "metadata": {
      "needs_background": "light"
     },
     "output_type": "display_data"
    }
   ],
   "source": [
    "## convert j_all to np array\n",
    "J_all = np.array(J_all)\n",
    "J_all[0].item()\n",
    "J_new=[]\n",
    "## Plotting the cost function vs epochs\n",
    "epochs = np.arange(1,J_all.shape[0]+1)\n",
    "for i in range(len(J_all)):\n",
    "    J_new.append(J_all[i].item())\n",
    "plt.plot(epochs,J_new)\n",
    "plt.xlabel(\"Epochs\")\n",
    "plt.ylabel(\"Cost Function\")\n",
    "plt.show()\n"
   ]
  },
  {
   "cell_type": "code",
   "execution_count": null,
   "metadata": {},
   "outputs": [
    {
     "data": {
      "text/plain": [
       "0    1.137383e+11\n",
       "dtype: float64"
      ]
     },
     "execution_count": 163,
     "metadata": {},
     "output_type": "execute_result"
    }
   ],
   "source": [
    "## For  degree = 10\n",
    "X_data = pd.DataFrame(x)\n",
    "Y_data = pd.DataFrame(y)\n",
    "train_x, test_x, train_y, test_y = train_test_split(X_data, Y_data, test_size=0.2)\n",
    "degree =10\n",
    "for i in range(degree):\n",
    "    X_data[i] = X_data[0].apply(lambda x1: x1**(i+1))\n",
    "X_data[degree] = 1 \n",
    "X_data\n",
    "train_x, test_x, train_y, test_y = train_test_split(X_data, Y_data, test_size=0.2)\n",
    "theta = np.random.randn(degree+1)\n",
    "theta = pd.DataFrame(theta)\n",
    "theta_new, J_all = gradient_descent(train_x, train_y, theta, learning_rate=0.1**19, num_epochs=100)\n",
    "total_loss = cost_function(test_x,test_y,theta_new)\n",
    "total_loss"
   ]
  },
  {
   "cell_type": "markdown",
   "metadata": {},
   "source": [
    "DATASET SIZE IS INCREASED 10x"
   ]
  },
  {
   "cell_type": "code",
   "execution_count": null,
   "metadata": {},
   "outputs": [
    {
     "data": {
      "image/png": "[encoded data removed]",
      "text/plain": [
       "<Figure size 432x288 with 1 Axes>"
      ]
     },
     "metadata": {
      "needs_background": "light"
     },
     "output_type": "display_data"
    }
   ],
   "source": [
    "## Taking 10x dataset\n",
    "x = np.random.uniform(0,10,750)\n",
    "y =  a*x + b +10*normal_dist(x,0,1)\n",
    "plt.plot(x,y,'o')\n",
    "plt.xlabel(\"X\")\n",
    "plt.ylabel(\"Y\")\n",
    "plt.show()\n",
    "\n"
   ]
  },
  {
   "cell_type": "code",
   "execution_count": null,
   "metadata": {},
   "outputs": [
    {
     "data": {
      "text/plain": [
       "0    46.798477\n",
       "dtype: float64"
      ]
     },
     "execution_count": 165,
     "metadata": {},
     "output_type": "execute_result"
    }
   ],
   "source": [
    "## For  degree = 2\n",
    "X_data = pd.DataFrame(x)\n",
    "Y_data = pd.DataFrame(y)\n",
    "train_x, test_x, train_y, test_y = train_test_split(X_data, Y_data, test_size=0.2)\n",
    "degree =2\n",
    "for i in range(degree):\n",
    "    X_data[i] = X_data[0].apply(lambda x1: x1**(i+1))\n",
    "X_data[degree] = 1 \n",
    "X_data\n",
    "train_x, test_x, train_y, test_y = train_test_split(X_data, Y_data, test_size=0.2)\n",
    "theta = np.random.randn(degree+1)\n",
    "theta = pd.DataFrame(theta)\n",
    "theta_new, J_all = gradient_descent(train_x, train_y, theta, learning_rate=0.0001, num_epochs=100)\n",
    "total_loss = cost_function(test_x,test_y,theta_new)\n",
    "total_loss"
   ]
  },
  {
   "cell_type": "code",
   "execution_count": null,
   "metadata": {},
   "outputs": [
    {
     "data": {
      "text/plain": [
       "0    4.496464e+08\n",
       "dtype: float64"
      ]
     },
     "execution_count": 166,
     "metadata": {},
     "output_type": "execute_result"
    }
   ],
   "source": [
    "## For  degree = 5\n",
    "X_data = pd.DataFrame(x)\n",
    "Y_data = pd.DataFrame(y)\n",
    "train_x, test_x, train_y, test_y = train_test_split(X_data, Y_data, test_size=0.2)\n",
    "degree =5\n",
    "for i in range(degree):\n",
    "    X_data[i] = X_data[0].apply(lambda x1: x1**(i+1))\n",
    "X_data[degree] = 1 \n",
    "X_data\n",
    "train_x, test_x, train_y, test_y = train_test_split(X_data, Y_data, test_size=0.2)\n",
    "theta = np.random.randn(degree+1)\n",
    "theta = pd.DataFrame(theta)\n",
    "theta_new, J_all = gradient_descent(train_x, train_y, theta, learning_rate=0.1**12, num_epochs=100)\n",
    "total_loss = cost_function(test_x,test_y,theta_new)\n",
    "total_loss"
   ]
  },
  {
   "cell_type": "code",
   "execution_count": null,
   "metadata": {},
   "outputs": [
    {
     "data": {
      "text/plain": [
       "0    2.835722e+13\n",
       "dtype: float64"
      ]
     },
     "execution_count": 167,
     "metadata": {},
     "output_type": "execute_result"
    }
   ],
   "source": [
    "## For  degree = 10\n",
    "X_data = pd.DataFrame(x)\n",
    "Y_data = pd.DataFrame(y)\n",
    "train_x, test_x, train_y, test_y = train_test_split(X_data, Y_data, test_size=0.2)\n",
    "degree = 10\n",
    "for i in range(degree):\n",
    "    X_data[i] = X_data[0].apply(lambda x1: x1**(i+1))\n",
    "X_data[degree] = 1 \n",
    "X_data\n",
    "train_x, test_x, train_y, test_y = train_test_split(X_data, Y_data, test_size=0.2)\n",
    "theta = np.random.randn(degree+1)\n",
    "theta = pd.DataFrame(theta)\n",
    "theta_new, J_all = gradient_descent(train_x, train_y, theta, learning_rate=0.1**19, num_epochs=1000)\n",
    "total_loss = cost_function(test_x,test_y,theta_new)\n",
    "total_loss"
   ]
  },
  {
   "cell_type": "markdown",
   "metadata": {},
   "source": []
  }
 ],
 "metadata": {
  "interpreter": {
   "hash": "1baa965d5efe3ac65b79dfc60c0d706280b1da80fedb7760faf2759126c4f253"
  },
  "kernelspec": {
   "display_name": "Python 3.8.6 64-bit",
   "language": "python",
   "name": "python3"
  },
  "language_info": {
   "codemirror_mode": {
    "name": "ipython",
    "version": 3
   },
   "file_extension": ".py",
   "mimetype": "text/x-python",
   "name": "python",
   "nbconvert_exporter": "python",
   "pygments_lexer": "ipython3",
   "version": "3.8.6"
  },
  "orig_nbformat": 4
 },
 "nbformat": 4,
 "nbformat_minor": 2
}
