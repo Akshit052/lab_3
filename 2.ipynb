{
 "cells": [
  {
   "cell_type": "code",
   "execution_count": 14,
   "metadata": {},
   "outputs": [],
   "source": [
    "import random\n",
    "import numpy as np\n",
    "import pandas as pd\n",
    "import matplotlib.pyplot as plt\n",
    "from sklearn.model_selection import train_test_split\n",
    "from sklearn.linear_model import LinearRegression\n",
    "from sklearn.preprocessing import PolynomialFeatures\n",
    "from sklearn.metrics import r2_score\n",
    "import math\n",
    "from math import log"
   ]
  },
  {
   "cell_type": "code",
   "execution_count": 15,
   "metadata": {},
   "outputs": [
    {
     "name": "stdout",
     "output_type": "stream",
     "text": [
      "0.7025504753849077\n"
     ]
    }
   ],
   "source": [
    "a= 10*np.random.rand()\n",
    "b= 10*np.random.rand()\n",
    "print(a)\n",
    "def normal_dist(x , mean , sd):\n",
    "    prob_density = (np.pi*sd) * np.exp(-0.5*((x-mean)/sd)**2)\n",
    "    return prob_density"
   ]
  },
  {
   "cell_type": "code",
   "execution_count": 16,
   "metadata": {},
   "outputs": [
    {
     "data": {
      "image/png": "[encoded data removed]",
      "text/plain": [
       "<Figure size 432x288 with 1 Axes>"
      ]
     },
     "metadata": {
      "needs_background": "light"
     },
     "output_type": "display_data"
    }
   ],
   "source": [
    "## Creating Dataset\n",
    "x = np.random.uniform(0,10,750)\n",
    "y =  a*x + b + 10*normal_dist(x,0,1)\n",
    "plt.plot(x,y,'o')\n",
    "plt.xlabel(\"X\")\n",
    "plt.ylabel(\"Y\")\n",
    "plt.show()\n"
   ]
  },
  {
   "cell_type": "code",
   "execution_count": 17,
   "metadata": {},
   "outputs": [],
   "source": [
    "def h(x,theta):\n",
    "\treturn x@theta\n",
    "    \n",
    "def cost_function_ridge(x, y, theta, lamda):\n",
    "\treturn ((h(x, theta)-y).T@(h(x, theta)-y))/(2*y.shape[0]) + lamda*(theta.T@theta)/(2*y.shape[0])\n",
    "\n",
    "def cost_function_lasso(x, y, theta, lamda):\n",
    "\treturn ((h(x, theta)-y).T@(h(x, theta)-y))/(2*y.shape[0]) + lamda*((theta.abs()).sum())/(2*y.shape[0])\n",
    "\n",
    "def cost_function_elastic(x, y, theta, lamda):\n",
    "\treturn ((h(x, theta)-y).T@(h(x, theta)-y))/(2*y.shape[0]) + lamda*(theta.T@theta)/(2*y.shape[0]) + lamda*((theta.abs()).sum())/(2*y.shape[0])\n",
    "\n"
   ]
  },
  {
   "cell_type": "code",
   "execution_count": 18,
   "metadata": {},
   "outputs": [],
   "source": [
    "def gradient_descent_ridge(x, y, theta, learning_rate, num_epochs, lamda):\n",
    "\tm = x.shape[0]\n",
    "\tJ_all = []\n",
    "\ttheta_values=[[]]\n",
    "\t\n",
    "\tfor _ in range(num_epochs):\n",
    "\t\th_x = h(x, theta)\n",
    "\t\tcost_ = (1/m)*(x.T@(h_x - y)) + (lamda/m)*theta\n",
    "\t\ttheta = theta - (learning_rate)*cost_ \n",
    "\t\ttheta.iloc[-1]=  theta.iloc[-1] - (learning_rate)*(lamda/m)*theta.iloc[-1]\n",
    "\t\ttheta_values.append(theta)\n",
    "\t\tJ_all.append(cost_function_ridge(x, y, theta, lamda))\n",
    "\n",
    "\treturn theta, J_all , theta_values"
   ]
  },
  {
   "cell_type": "code",
   "execution_count": 19,
   "metadata": {},
   "outputs": [],
   "source": [
    "def gradient_descent_lasso(x, y, theta, learning_rate, num_epochs, lamda):\n",
    "\tm = x.shape[0]\n",
    "\tJ_all = []\n",
    "\ttheta_values=[[]]\n",
    "\t\n",
    "\tfor _ in range(num_epochs):\n",
    "\t\th_x = h(x, theta)\n",
    "\t\tcost_ = (1/m)*(x.T@(h_x - y)) + (lamda/m)*np.sign(theta)\n",
    "\t\ttheta = theta - (learning_rate)*cost_ \n",
    "\t\ttheta.iloc[-1]=  theta.iloc[-1] - (learning_rate)*(lamda/m)*np.sign(theta.iloc[-1])\n",
    "\t\ttheta_values.append(theta)\n",
    "\t\tJ_all.append(cost_function_ridge(x, y, theta, lamda))\n",
    "\n",
    "\treturn theta, J_all , theta_values"
   ]
  },
  {
   "cell_type": "code",
   "execution_count": 20,
   "metadata": {},
   "outputs": [],
   "source": [
    "def gradient_descent_elastic(x, y, theta, learning_rate, num_epochs, lamda):\n",
    "\tm = x.shape[0]\n",
    "\tJ_all = []\n",
    "\ttheta_values=[[]]\n",
    "\t\n",
    "\tfor _ in range(num_epochs):\n",
    "\t\th_x = h(x, theta)\n",
    "\t\tcost_ = (1/m)*(x.T@(h_x - y)) + (lamda/m)*np.sign(theta) + (lamda/m)*theta\n",
    "\t\ttheta = theta - (learning_rate)*cost_ \n",
    "\t\ttheta.iloc[-1]=  theta.iloc[-1] - (learning_rate)*(lamda/m)*np.sign(theta.iloc[-1]) - (learning_rate)*(lamda/m)*theta.iloc[-1]\n",
    "\t\ttheta_values.append(theta)\n",
    "\t\tJ_all.append(cost_function_ridge(x, y, theta, lamda))\n",
    "\n",
    "\treturn theta, J_all , theta_values"
   ]
  },
  {
   "cell_type": "markdown",
   "metadata": {},
   "source": [
    "For Ridge Regularization"
   ]
  },
  {
   "cell_type": "code",
   "execution_count": 21,
   "metadata": {},
   "outputs": [],
   "source": [
    "X_data = pd.DataFrame(x)\n",
    "Y_data = pd.DataFrame(y)\n",
    "degree =10\n",
    "for i in range(degree):\n",
    "    X_data[i] = X_data[0].apply(lambda x1: x1**(i+1))\n",
    "X_data[degree] = 1 \n",
    "lamda_arr = [0.01, 0.1, 1, 10, 100, 1000]\n",
    "losses = []\n",
    "theta_store = [[[]]]\n",
    "theta_best = pd.DataFrame(np.zeros(degree+1))\n",
    "k = 6\n",
    "for i in range(k):\n",
    "    train_x, test_x, train_y, test_y = train_test_split(X_data, Y_data, test_size= 1/k)\n",
    "    theta = np.random.randn(degree+1)\n",
    "    theta = pd.DataFrame(theta)\n",
    "    theta_new, J_all, theta_values = gradient_descent_ridge(train_x, train_y, theta, learning_rate=0.1**19, num_epochs=20, lamda= lamda_arr[i])\n",
    "    theta_store.append(theta_values)\n",
    "    theta_best = theta_best + theta_new/k\n",
    "    total_loss = cost_function_ridge(test_x,test_y,theta_new, lamda = lamda_arr[i])\n",
    "    losses.append(int(total_loss.iloc[0]))\n"
   ]
  },
  {
   "cell_type": "code",
   "execution_count": 22,
   "metadata": {},
   "outputs": [],
   "source": [
    "log_lamda = []\n",
    "for i in range(k):\n",
    "    log_lamda.append(log(lamda_arr[i]))"
   ]
  },
  {
   "cell_type": "code",
   "execution_count": 23,
   "metadata": {},
   "outputs": [
    {
     "data": {
      "image/png": "[encoded data removed]",
      "text/plain": [
       "<Figure size 432x288 with 1 Axes>"
      ]
     },
     "metadata": {
      "needs_background": "light"
     },
     "output_type": "display_data"
    }
   ],
   "source": [
    "plt.plot(log_lamda,losses,'o')\n",
    "plt.xlabel(\"log_lamda\")\n",
    "plt.ylabel(\"Cost\")\n",
    "plt.show()"
   ]
  },
  {
   "cell_type": "code",
   "execution_count": 24,
   "metadata": {},
   "outputs": [
    {
     "name": "stdout",
     "output_type": "stream",
     "text": [
      "The best lamda for ridge regularization :  1000\n",
      "value for cost function for ridge regularization:                0\n",
      "0  4.480845e+12\n"
     ]
    }
   ],
   "source": [
    "min_loss=losses[0]\n",
    "best_lamda=lamda_arr[0]\n",
    "for i in range(1,k):\n",
    "    if losses[i]<min_loss:\n",
    "        min_loss=losses[i]\n",
    "        best_lamda=lamda_arr[i]\n",
    "print(\"The best lamda for ridge regularization : \", best_lamda)\n",
    "print(\"value for cost function for ridge regularization: \", cost_function_ridge(test_x, test_y, theta_best, lamda = best_lamda))"
   ]
  },
  {
   "cell_type": "markdown",
   "metadata": {},
   "source": [
    "For Lasso Regression\n"
   ]
  },
  {
   "cell_type": "code",
   "execution_count": 25,
   "metadata": {},
   "outputs": [
    {
     "name": "stdout",
     "output_type": "stream",
     "text": [
      "              0\n",
      "0  7.888711e+13\n",
      "              0\n",
      "0  9.118765e+12\n",
      "              0\n",
      "0  5.099010e+13\n",
      "              0\n",
      "0  1.156306e+13\n",
      "              0\n",
      "0  1.239728e+14\n",
      "              0\n",
      "0  2.792175e+13\n"
     ]
    },
    {
     "data": {
      "image/png": "[encoded data removed]",
      "text/plain": [
       "<Figure size 432x288 with 1 Axes>"
      ]
     },
     "metadata": {
      "needs_background": "light"
     },
     "output_type": "display_data"
    },
    {
     "name": "stdout",
     "output_type": "stream",
     "text": [
      "The best lamda for the lasso regularizaion is : 0.1\n",
      "The value of cost function for the best lamda for the lasso regularizaion is :               0\n",
      "0  1.898744e+13\n"
     ]
    }
   ],
   "source": [
    "X_data = pd.DataFrame(x)\n",
    "Y_data = pd.DataFrame(y)\n",
    "degree =10\n",
    "for i in range(degree):\n",
    "    X_data[i] = X_data[0].apply(lambda x1: x1**(i+1))\n",
    "X_data[degree] = 1 \n",
    "lamda_arr = [0.01, 0.1, 1, 10, 100, 1000]\n",
    "losses = []\n",
    "theta_store = [[[]]]\n",
    "k = 6\n",
    "theta_best = pd.DataFrame(np.zeros(degree+1))\n",
    "for i in range(k):\n",
    "    train_x, test_x, train_y, test_y = train_test_split(X_data, Y_data, test_size= 1/k)\n",
    "    theta = np.random.randn(degree+1)\n",
    "    theta = pd.DataFrame(theta)\n",
    "    theta_new, J_all, theta_values = gradient_descent_lasso(train_x, train_y, theta, learning_rate=0.1**19, num_epochs=20, lamda= lamda_arr[i])\n",
    "    theta_store.append(theta_values)\n",
    "    theta_best = theta_best + theta_new/k\n",
    "    total_loss = cost_function_lasso(test_x,test_y,theta_new, lamda = lamda_arr[i])\n",
    "    print(total_loss)\n",
    "    losses.append(int(total_loss.iloc[0]))\n",
    "\n",
    "log_lamda = []\n",
    "for i in range(k):\n",
    "    log_lamda.append(log(lamda_arr[i]))\n",
    "plt.plot(log_lamda,losses,'o')\n",
    "plt.xlabel(\"log_lamda\")\n",
    "plt.ylabel(\"Cost\")\n",
    "plt.show()\n",
    "min_loss=losses[0]\n",
    "best_lamda=lamda_arr[0]\n",
    "for i in range(1,k):\n",
    "    if losses[i]<min_loss:\n",
    "        min_loss=losses[i]\n",
    "        best_lamda=lamda_arr[i]\n",
    "print(\"The best lamda for the lasso regularizaion is :\", best_lamda)\n",
    "print(\"The value of cost function for the best lamda for the lasso regularizaion is :\", cost_function_lasso(test_x, test_y, theta_best, lamda = best_lamda))\n"
   ]
  },
  {
   "cell_type": "markdown",
   "metadata": {},
   "source": [
    "For Elastic Regression"
   ]
  },
  {
   "cell_type": "code",
   "execution_count": 26,
   "metadata": {},
   "outputs": [
    {
     "data": {
      "image/png": "[encoded data removed]",
      "text/plain": [
       "<Figure size 432x288 with 1 Axes>"
      ]
     },
     "metadata": {
      "needs_background": "light"
     },
     "output_type": "display_data"
    },
    {
     "name": "stdout",
     "output_type": "stream",
     "text": [
      "The best lambda for elastic regularization 10\n",
      "Value of cost function for elastic regularization               0\n",
      "0  1.778005e+12\n"
     ]
    }
   ],
   "source": [
    "X_data = pd.DataFrame(x)\n",
    "Y_data = pd.DataFrame(y)\n",
    "degree =10\n",
    "for i in range(degree):\n",
    "    X_data[i] = X_data[0].apply(lambda x1: x1**(i+1))\n",
    "X_data[degree] = 1 \n",
    "lamda_arr = [0.01, 0.1, 1, 10, 100, 1000]\n",
    "losses = []\n",
    "theta_store = [[[]]]\n",
    "k = 6\n",
    "theta_best = pd.DataFrame(np.zeros(degree+1))\n",
    "for i in range(k):\n",
    "    train_x, test_x, train_y, test_y = train_test_split(X_data, Y_data, test_size= 1/k)\n",
    "    theta = np.random.randn(degree+1)\n",
    "    theta = pd.DataFrame(theta)\n",
    "    theta_new, J_all, theta_values = gradient_descent_elastic(train_x, train_y, theta, learning_rate=0.1**19, num_epochs=20, lamda= lamda_arr[i])\n",
    "    theta_store.append(theta_values)\n",
    "    theta_best = theta_best + theta_new/k\n",
    "    total_loss = cost_function_elastic(test_x,test_y,theta_new, lamda = lamda_arr[i])\n",
    "    losses.append(int(total_loss.iloc[0]))\n",
    "\n",
    "log_lamda = []\n",
    "for i in range(k):\n",
    "    log_lamda.append(log(lamda_arr[i]))\n",
    "plt.plot(log_lamda,losses,'o')\n",
    "plt.xlabel(\"log_lamda\")\n",
    "plt.ylabel(\"Cost\")\n",
    "plt.show()\n",
    "min_loss=losses[0]\n",
    "best_lamda=lamda_arr[0]\n",
    "for i in range(1,k):\n",
    "    if losses[i]<min_loss:\n",
    "        min_loss=losses[i]\n",
    "        best_lamda=lamda_arr[i]\n",
    "print(\"The best lambda for elastic regularization\", best_lamda)\n",
    "print(\"Value of cost function for elastic regularization\", cost_function_elastic(test_x, test_y, theta_best, lamda = best_lamda))\n"
   ]
  },
  {
   "cell_type": "code",
   "execution_count": null,
   "metadata": {},
   "outputs": [],
   "source": []
  }
 ],
 "metadata": {
  "interpreter": {
   "hash": "1baa965d5efe3ac65b79dfc60c0d706280b1da80fedb7760faf2759126c4f253"
  },
  "kernelspec": {
   "display_name": "Python 3.8.6 64-bit",
   "language": "python",
   "name": "python3"
  },
  "language_info": {
   "codemirror_mode": {
    "name": "ipython",
    "version": 3
   },
   "file_extension": ".py",
   "mimetype": "text/x-python",
   "name": "python",
   "nbconvert_exporter": "python",
   "pygments_lexer": "ipython3",
   "version": "3.8.6"
  },
  "orig_nbformat": 4
 },
 "nbformat": 4,
 "nbformat_minor": 2
}
